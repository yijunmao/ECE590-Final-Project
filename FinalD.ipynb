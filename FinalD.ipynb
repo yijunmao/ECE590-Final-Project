{
 "cells": [
  {
   "cell_type": "markdown",
   "metadata": {},
   "source": [
    "# Final D: Object Pushing\n",
    "\n",
    "In your final, you will implement a controller for a block pushing task.  Compared to grasping, pushing is more useful for manipulating large objects.  It can also be used to move objects out of reach of normal grasping.  However, the object behavior must be modeled dynamically rather than kinematically, because the object cannot be modeled as rigidly attached due the gripper.  It can also be challenging to predict the object's movement, due to uncertainty in the frictional response with the surface it is resting on.  Often, a combination of planning and feedback control is needed to make pushing work well."
   ]
  },
  {
   "cell_type": "code",
   "execution_count": 18,
   "metadata": {},
   "outputs": [
    {
     "name": "stdout",
     "output_type": "stream",
     "text": [
      "The autoreload extension is already loaded. To reload it, use:\n",
      "  %reload_ext autoreload\n"
     ]
    }
   ],
   "source": [
    "%load_ext autoreload\n",
    "%autoreload 2\n",
    "import time\n",
    "from klampt import *\n",
    "from klampt.math import vectorops,so3,se3\n",
    "from klampt.io import loader\n",
    "import math\n",
    "import random\n",
    "from IPython.display import clear_output,Markdown\n",
    "import ipywidgets as widgets\n",
    "import ipyklampt\n",
    "\n",
    "world = WorldModel()\n",
    "fn = \"data/ur5Block.xml\"\n",
    "res = world.readFile(fn)\n",
    "robot = world.robot(0)\n",
    "\n",
    "# perturb the block configuration\n",
    "objectTransforms = [world.rigidObject(i).getTransform() for i in range(world.numRigidObjects())]\n",
    "random.shuffle(objectTransforms)\n",
    "for i in range(world.numRigidObjects()):\n",
    "    R,t = objectTransforms[i]\n",
    "    t[0] += random.uniform(-0.05,0.05)\n",
    "    t[1] += random.uniform(-0.05,0.05)\n",
    "    R = so3.from_axis_angle(((0,0,1),random.uniform(0,math.pi*2)))\n",
    "    world.rigidObject(i).setTransform(R,t)\n",
    "\n",
    "#set the home configuration\n",
    "qhome  = robot.getConfig()\n",
    "qhome[1] = 2.3562\n",
    "qhome[2] = -math.pi/3.0\n",
    "qhome[3] = math.pi*2/3.0\n",
    "qhome[4] = 0.64181\n",
    "qhome[5] = math.pi/2.0\n",
    "\n",
    "kvis = ipyklampt.KlamptWidget(world,width=600,height=400)\n"
   ]
  },
  {
   "cell_type": "code",
   "execution_count": 19,
   "metadata": {
    "collapsed": true
   },
   "outputs": [],
   "source": [
    "#set up the controller and useful subroutines for converting to/from Klampt\n",
    "def controller_to_klampt(qcontroller):\n",
    "    \"\"\"Converts a 6+1 controller configuration to Klampt format\"\"\"\n",
    "    qorig = robot.getConfig()\n",
    "    q = [v for v in qorig]\n",
    "    for i in range(6):\n",
    "        q[i+1] = qcontroller[i]\n",
    "    robot.setConfig(q)\n",
    "    robot.driver(6).setValue(qcontroller[6])\n",
    "    q = robot.getConfig()\n",
    "    robot.setConfig(qorig)\n",
    "    return q\n",
    "\n",
    "def klampt_to_controller(qklampt):\n",
    "    \"\"\"Converts a Klamp't configuration to 6+1 controller format\"\"\"\n",
    "    qorig = robot.getConfig()\n",
    "    res = [qklampt[i+1] for i in range(6)]\n",
    "    robot.setConfig(qklampt)\n",
    "    res.append(robot.driver(6).getValue())\n",
    "    robot.setConfig(qorig)\n",
    "    return res\n",
    "\n",
    "CONTROLLER = 'simulation'\n",
    "#when you are ready, replace the above line with this\n",
    "#CONTROLLER = 'physical'\n",
    "if CONTROLLER == 'simulation':\n",
    "    from RobotControllerEmulator import kill_controller_threads,UR5WithGripperController\n",
    "    controllerWorld = world.copy()\n",
    "    kvis_ground_truth = ipyklampt.KlamptWidget(controllerWorld,width=600,height=400)\n",
    "    robot_control_api = UR5WithGripperController(controllerWorld,randomize=True)\n",
    "    VIS_UPDATE_FREQUENCY = 10\n",
    "    VIS_UPDATE_ITERS = 0\n",
    "    def _update_vis_hook():\n",
    "        global VIS_UPDATE_ITERS\n",
    "        VIS_UPDATE_ITERS += 1\n",
    "        if VIS_UPDATE_ITERS % VIS_UPDATE_FREQUENCY == 0:\n",
    "            #this is called inside the thread\n",
    "            kvis_ground_truth.update()\n",
    "    def start_controller():\n",
    "        kill_controller_threads()\n",
    "        robot_control_api.start(_update_vis_hook)\n",
    "    kvis_ground_truth.set_camera({u'position': {u'y': 1.9298983866544108, u'x': 0.7498269220525384, u'z': 1.3093949571767591}, u'up': {u'y': 0.9488807720023056, u'x': 0.06236278376382235, u'z': -0.30941261080559734}, u'target': {u'y': 0.6599169321160283, u'x': -0.12092171623712519, u'z': 0.08376713045866419}})\n",
    "else:\n",
    "    from robot_api.RobotController import UR5WithGripperController\n",
    "    robot_control_api = UR5WithGripperController(host='192.168.0.1')\n",
    "    def start_controller():\n",
    "        robot_control_api.start()\n",
    "def update_vis_from_controller():\n",
    "    q = robot_control_api.getConfig()\n",
    "    robot.setConfig(controller_to_klampt(q))\n",
    "    kvis.update()\n",
    "def stop_controller():\n",
    "    robot_control_api.stop()\n",
    "def wait_controller(duration):\n",
    "    t0 = time.time()\n",
    "    tstart = t0\n",
    "    while time.time()-tstart < duration:\n",
    "        update_vis_from_controller()\n",
    "        t1 = time.time()\n",
    "        time.sleep(max(0,0.05-(t1-t0)))\n",
    "        t0 = t1\n"
   ]
  },
  {
   "cell_type": "code",
   "execution_count": 20,
   "metadata": {},
   "outputs": [
    {
     "data": {
      "text/markdown": [
       "## Ground truth world"
      ],
      "text/plain": [
       "<IPython.core.display.Markdown object>"
      ]
     },
     "metadata": {},
     "output_type": "display_data"
    },
    {
     "data": {
      "application/vnd.jupyter.widget-view+json": {
       "model_id": "1f5d291dd5554fa9913a58c316d3df1b",
       "version_major": 2,
       "version_minor": 0
      },
      "text/plain": [
       "KlamptWidget(camera={u'position': {u'y': 1.9298983866544108, u'x': 0.7498269220525384, u'z': 1.309394957176759…"
      ]
     },
     "metadata": {},
     "output_type": "display_data"
    },
    {
     "data": {
      "application/vnd.jupyter.widget-view+json": {
       "model_id": "225d02e909af459ea37699ae26a3dc2b",
       "version_major": 2,
       "version_minor": 0
      },
      "text/plain": [
       "HBox()"
      ]
     },
     "metadata": {},
     "output_type": "display_data"
    },
    {
     "data": {
      "text/markdown": [
       "## Planning world"
      ],
      "text/plain": [
       "<IPython.core.display.Markdown object>"
      ]
     },
     "metadata": {},
     "output_type": "display_data"
    },
    {
     "data": {
      "application/vnd.jupyter.widget-view+json": {
       "model_id": "c965e2c6b4084ea3bd5fdad3973b223d",
       "version_major": 2,
       "version_minor": 0
      },
      "text/plain": [
       "KlamptWidget(height=400, scene={u'object': {u'matrix': [1, 0, 0, 0, 0, 0, -1, 0, 0, 1, 0, 0, 0, 0, 0, 1], u'uu…"
      ]
     },
     "metadata": {},
     "output_type": "display_data"
    },
    {
     "data": {
      "application/vnd.jupyter.widget-view+json": {
       "model_id": "7315d86f894348c8a51b871e2f91ab62",
       "version_major": 2,
       "version_minor": 0
      },
      "text/plain": [
       "Output()"
      ]
     },
     "metadata": {},
     "output_type": "display_data"
    }
   ],
   "source": [
    "if CONTROLLER == 'simulation':\n",
    "    display(Markdown(\"## Ground truth world\"))\n",
    "    display(kvis_ground_truth)\n",
    "\n",
    "controls = widgets.HBox([])\n",
    "display(controls)\n",
    "\n",
    "display(Markdown(\"## Planning world\"))\n",
    "display(kvis)\n",
    "\n",
    "output_area = widgets.Output()\n",
    "display(output_area)\n",
    "\n",
    "#Controls:\n",
    "#left mouse click to rotate the view\n",
    "#right click or ctrl+click to pan the view\n",
    "#mouse wheel or shift+click to zoom the view"
   ]
  },
  {
   "cell_type": "code",
   "execution_count": 17,
   "metadata": {},
   "outputs": [
    {
     "name": "stdout",
     "output_type": "stream",
     "text": [
      "Stopping UR5WithGripperController emulation thread...\n",
      "UR5GripperAPI thread terminating\n",
      "Stopped.\n"
     ]
    }
   ],
   "source": [
    "#Call this cell after you started the thread if you want to save CPU\n",
    "stop_controller()"
   ]
  },
  {
   "cell_type": "code",
   "execution_count": 13,
   "metadata": {},
   "outputs": [
    {
     "name": "stdout",
     "output_type": "stream",
     "text": [
      "UR5WithGripperController emulation thread not started\n",
      "Starting UR5WithGripperController emulation thread...\n",
      "UR5GripperAPI thread #1 starting\n"
     ]
    }
   ],
   "source": [
    "#Call this cell to start the controller thread (the dot in the upper right of the notebook should flicker)\n",
    "start_controller()\n",
    "update_vis_from_controller()"
   ]
  },
  {
   "cell_type": "code",
   "execution_count": 14,
   "metadata": {
    "collapsed": true
   },
   "outputs": [],
   "source": [
    "#assumes perfect sensing\n",
    "def update_objects_from_simulator():\n",
    "    global world,controller_world\n",
    "    for i in xrange(controllerWorld.numRigidObjects()):\n",
    "        world.rigidObject(i).setTransform(*controllerWorld.rigidObject(i).getTransform())\n",
    "\n",
    "#target parameters -- you may change these values for testing\n",
    "target_position = (0.26,-0.25,0.90)\n",
    "kvis.add_sphere(\"target\",x=target_position[0],y=target_position[1],z=target_position[2],r=0.02)"
   ]
  },
  {
   "cell_type": "markdown",
   "metadata": {},
   "source": [
    "## Controller implementation\n",
    "\n",
    "You must implement your controller in the following bare-bones control loop.  You are free to add anything you like, including state machine behavior, inverse kinematics, motion planning, etc.  However, each loop should not take an excessive amount of time.\n",
    "\n",
    "The controller should move its end effector to the block and then start to push it toward the target position (target_position defined above).  It should return None to stop running."
   ]
  },
  {
   "cell_type": "code",
   "execution_count": 15,
   "metadata": {
    "collapsed": true
   },
   "outputs": [],
   "source": [
    "#TODO: fill me in\n",
    "\n",
    "from klampt.model import ik\n",
    "\n",
    "#add whatever global variables you'd like here\n",
    "t = 0\n",
    "\n",
    "def push_control_init(robot,q):\n",
    "    \"\"\"Initialize any global variables if youd like\n",
    "    \n",
    "    To debug during stepping, you can set the robot's configuration and then call kvis.update().  The robot in the\n",
    "    planning world will be drawn at the given configuration.\n",
    "    \n",
    "    Don't \"cheat\" by using the controllerWorld data structure!  You may use update_objects_from_simulator\n",
    "    to get the object's position.\n",
    "    \"\"\"\n",
    "    #don't forget to mark global variables as global\n",
    "    global t\n",
    "    t = 0\n",
    "\n",
    "def push_control_loop(robot,q,dt):\n",
    "    \"\"\"Returns the next desired configuration of the robot.  Return None to stop the push loop.\n",
    "    \n",
    "    To debug during stepping, you can set the robot's configuration and then call kvis.update().  The robot in the\n",
    "    planning world will be drawn at the given configuration.\n",
    "    \n",
    "    Don't \"cheat\" by using the controllerWorld data structure!  You may use update_objects_from_simulator\n",
    "    to get the object's updated position.\n",
    "    \"\"\"\n",
    "    #don't forget to mark global variables as global\n",
    "    global t\n",
    "    t += dt\n",
    "    if t < 3:\n",
    "        return q\n",
    "    print \"Stopping push loop at t=3\"\n",
    "    return None"
   ]
  },
  {
   "cell_type": "code",
   "execution_count": 25,
   "metadata": {},
   "outputs": [],
   "source": [
    "#run this cell to bind your code to the visualization playback window. You should \n",
    "#not need to modify this code.\n",
    "\n",
    "kvis.add_text(\"HUD1\",1,1)\n",
    "kvis.add_text(\"HUD2\",1,5)\n",
    "kvis.add_text(\"HUD3\",1,9)\n",
    "kvis.add_text(\"HUD4\",1,13)\n",
    "kvis.add_text(\"HUD5\",1,17)\n",
    "kvis.add_text(\"HUD6\",1,21)\n",
    "kvis.add_text(\"HUD7\",1,25)\n",
    "\n",
    "#the amount of time between refreshes\n",
    "dt = 0.05\n",
    "                \n",
    "def do_sense(button):\n",
    "    output_area.clear_output()\n",
    "    with output_area:\n",
    "        update_objects_from_simulator()\n",
    "    kvis.update()\n",
    "    \n",
    "def do_push(button):\n",
    "    global state,robot\n",
    "    output_area.clear_output()\n",
    "    with output_area:\n",
    "        try:\n",
    "            robot.setConfig(controller_to_klampt(robot_control_api.getConfig()))\n",
    "            push_control_init(robot,robot.getConfig())\n",
    "            while(True):\n",
    "                robot.setConfig(controller_to_klampt(robot_control_api.getConfig()))\n",
    "                qdes = push_control_loop(robot,robot.getConfig(),dt)\n",
    "                if qdes is None:\n",
    "                    print \"Done.\"\n",
    "                    break\n",
    "                robot_control_api.setConfig(klampt_to_controller(qdes))\n",
    "                wait_controller(dt)\n",
    "        except Exception:\n",
    "            import traceback\n",
    "            traceback.print_exc()\n",
    "        \n",
    "def do_push_step(button):\n",
    "    global state,robot\n",
    "    output_area.clear_output()\n",
    "    with output_area:\n",
    "        try:\n",
    "            robot.setConfig(controller_to_klampt(robot_control_api.getConfig()))\n",
    "            qdes = push_control_loop(robot,robot.getConfig(),dt)\n",
    "            if qdes is None:\n",
    "                print \"Controller returned None.\"\n",
    "            else:\n",
    "                robot_control_api.setConfig(klampt_to_controller(qdes))\n",
    "                wait_controller(dt)\n",
    "        except Exception:\n",
    "            import traceback\n",
    "            traceback.print_exc()\n",
    "            \n",
    "def do_push_reset(button):\n",
    "    global state,robot\n",
    "    output_area.clear_output()\n",
    "    with output_area:\n",
    "        try:\n",
    "            robot.setConfig(controller_to_klampt(robot_control_api.getConfig()))\n",
    "            push_control_init(robot,robot.getConfig())\n",
    "        except Exception:\n",
    "            import traceback\n",
    "            traceback.print_exc()\n",
    "\n",
    "sense_button = widgets.Button(description=\"Sense\")\n",
    "push_begin_button = widgets.Button(description=\"Push\")\n",
    "push_reset_button = widgets.Button(description=\"Reset push controller\")\n",
    "push_step_button = widgets.Button(description=\"Step push controller\")\n",
    "sense_button.on_click(do_sense)\n",
    "push_begin_button.on_click(do_push)\n",
    "push_reset_button.on_click(do_push_reset)\n",
    "push_step_button.on_click(do_push_step)\n",
    "\n",
    "controls.children = (push_begin_button,push_step_button,push_reset_button,sense_button)"
   ]
  },
  {
   "cell_type": "markdown",
   "metadata": {
    "collapsed": true
   },
   "source": [
    "## Assignment\n",
    "\n",
    "Your job is to devise a controller that pushes the block from its initial position to the target position. The robot should not collide with the table, and the block should not fall off the table.  You are free to use any method that you wish to implement this controller, e.g., IK, motion planning, or heuristic methods.\n",
    "\n",
    "In your report, precisely and in technical English language (not code, although pseudocode may be acceptable), describe your strategy for pushing the object.  This description should include, but is not limited to:\n",
    "\n",
    "1. A high-level description of the controller, including a state machine or control flow diagram if applicable.\n",
    "\n",
    "2. A detailed description of the implementation for any components that are not off-the-shelf.  Describe the mathematical models and assumptions made in these implementations.\n",
    "\n",
    "3. For off-the-shelf components, describe their inputs and outputs.\n"
   ]
  },
  {
   "cell_type": "markdown",
   "metadata": {},
   "source": [
    "## Unit testing\n",
    "\n",
    "Perform unit testing of your controller, and describe the performance metrics and test procedure that you are using.  Interpret the observations you have made, including but not limited to:\n",
    "\n",
    "* Whether performance is sensitive to certain parameters.\n",
    "* Whether performance limitations or bottlenecks can be identified.\n",
    "* Whether unit tests agree with theoretical behavior.\n",
    "\n",
    "This should include, but is not limited to, an analysis of how well your strategy handles variation in the initial position of the block, initial position of the robot, and target location."
   ]
  },
  {
   "cell_type": "code",
   "execution_count": null,
   "metadata": {
    "collapsed": true
   },
   "outputs": [],
   "source": []
  }
 ],
 "metadata": {
  "kernelspec": {
   "display_name": "Python 2",
   "language": "python",
   "name": "python2"
  },
  "language_info": {
   "codemirror_mode": {
    "name": "ipython",
    "version": 2
   },
   "file_extension": ".py",
   "mimetype": "text/x-python",
   "name": "python",
   "nbconvert_exporter": "python",
   "pygments_lexer": "ipython2",
   "version": "2.7.12"
  }
 },
 "nbformat": 4,
 "nbformat_minor": 2
}
