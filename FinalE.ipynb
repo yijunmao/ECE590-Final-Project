{
 "cells": [
  {
   "cell_type": "markdown",
   "metadata": {},
   "source": [
    "# Final E: Plane estimation\n",
    "\n",
    "For your final, you will be developing plane estimation techniques from RGB-D sensor data.  The simulated robot has an eye-in-hand RGB-D camera, and Klampt can simulate color and depth images that might come from such a sensor.  Plane estimation is an important part of many planning and perception tasks, such as identifying a ground plane, or segmenting objects apart from the table."
   ]
  },
  {
   "cell_type": "code",
   "execution_count": 11,
   "metadata": {},
   "outputs": [
    {
     "name": "stdout",
     "output_type": "stream",
     "text": [
      "The autoreload extension is already loaded. To reload it, use:\n",
      "  %reload_ext autoreload\n"
     ]
    }
   ],
   "source": [
    "%load_ext autoreload\n",
    "%autoreload 2\n",
    "\n",
    "#these might be useful\n",
    "from klampt import *\n",
    "from klampt.math import so3,se3,vectorops\n",
    "from IPython.display import display,clear_output,Markdown\n",
    "import time\n",
    "import ipywidgets as widgets\n",
    "import ipyklampt\n",
    "import numpy as np\n",
    "import math\n"
   ]
  },
  {
   "cell_type": "code",
   "execution_count": 12,
   "metadata": {},
   "outputs": [
    {
     "data": {
      "application/vnd.jupyter.widget-view+json": {
       "model_id": "9dc4c55b87a747e99d974a93b6432c59",
       "version_major": 2,
       "version_minor": 0
      },
      "text/plain": [
       "KlamptWidget(scene={u'object': {u'matrix': [1, 0, 0, 0, 0, 0, -1, 0, 0, 1, 0, 0, 0, 0, 0, 1], u'uuid': u'be7a0…"
      ]
     },
     "metadata": {},
     "output_type": "display_data"
    },
    {
     "data": {
      "application/vnd.jupyter.widget-view+json": {
       "model_id": "85da0bb1e0704614ba85cc3bd8da2305",
       "version_major": 2,
       "version_minor": 0
      },
      "text/plain": [
       "HBox()"
      ]
     },
     "metadata": {},
     "output_type": "display_data"
    },
    {
     "data": {
      "application/vnd.jupyter.widget-view+json": {
       "model_id": "a4c93f392cc7466e984b9237e63ee810",
       "version_major": 2,
       "version_minor": 0
      },
      "text/plain": [
       "Output()"
      ]
     },
     "metadata": {},
     "output_type": "display_data"
    }
   ],
   "source": [
    "world = WorldModel()\n",
    "fn = \"data/ur5BlocksSensor.xml\"\n",
    "res = world.readFile(fn)\n",
    "robot = world.robot(0)\n",
    "\n",
    "sim = Simulator(world)\n",
    "controller = sim.controller(0)\n",
    "camera = controller.sensor('rgbd_camera')\n",
    "\n",
    "#set the home configuration\n",
    "qhome  = robot.getConfig()\n",
    "qhome[1] = 2.1562\n",
    "qhome[2] = -math.pi/3.0\n",
    "qhome[3] = math.pi*2/3.0\n",
    "qhome[4] = 0.48\n",
    "qhome[5] = math.pi/2.0\n",
    "robot.setConfig(qhome)\n",
    "\n",
    "kvis = ipyklampt.KlamptWidget(world)\n",
    "display(kvis)\n",
    "controls = widgets.HBox([])\n",
    "display(controls)\n",
    "output_area = widgets.Output()\n",
    "display(output_area)"
   ]
  },
  {
   "cell_type": "markdown",
   "metadata": {},
   "source": [
    "## Controls\n",
    "\n",
    "You may change the robot's configuration using the above sliders, and then  update the camera image by running the cell found 2 cells below this one."
   ]
  },
  {
   "cell_type": "code",
   "execution_count": 13,
   "metadata": {},
   "outputs": [
    {
     "data": {
      "application/vnd.jupyter.widget-view+json": {
       "model_id": "25cf17293ecb487fafbcb71adb97ee8b",
       "version_major": 2,
       "version_minor": 0
      },
      "text/plain": [
       "interactive(children=(IntSlider(value=0, description=u'Link', max=5), Output()), _dom_classes=(u'widget-intera…"
      ]
     },
     "metadata": {},
     "output_type": "display_data"
    }
   ],
   "source": [
    "from klampt.model import sensing\n",
    "\n",
    "xform = sensing.get_sensor_xform(camera,robot)\n",
    "\n",
    "kvis.add_xform(\"camera\",length=0.1)\n",
    "kvis.set_transform(\"camera\",*xform)\n",
    "\n",
    "def setConfig(q):\n",
    "    robot.setConfig(q)\n",
    "    kvis.set_transform(\"camera\",*sensing.get_sensor_xform(camera,robot))\n",
    "    kvis.update()\n",
    "\n",
    "def getImage():\n",
    "    camera.kinematicSimulate(world,0.01)\n",
    "    images = sensing.camera_to_images(camera)\n",
    "    return images\n",
    "\n",
    "\n",
    "def onChangeConfig(index,q):\n",
    "    setConfig(q)\n",
    "    \n",
    "configWidget = ipyklampt.EditConfig(robot,link_selector='slider',link_subset=[1,2,3,4,5,6],callback=onChangeConfig)\n",
    "controls.children = (configWidget,)"
   ]
  },
  {
   "cell_type": "code",
   "execution_count": 14,
   "metadata": {},
   "outputs": [
    {
     "name": "stdout",
     "output_type": "stream",
     "text": [
      "(128, 256, 3)\n"
     ]
    },
    {
     "data": {
      "image/png": "[encoded data removed]",
      "text/plain": [
       "<Figure size 864x432 with 2 Axes>"
      ]
     },
     "metadata": {},
     "output_type": "display_data"
    }
   ],
   "source": [
    "# This cell retrieves and plots the image from the camera sensor\n",
    "\n",
    "%matplotlib inline\n",
    "import matplotlib.pyplot as plt\n",
    "\n",
    "#show the images\n",
    "fig = plt.figure(figsize=(12,6))\n",
    "ax1 = plt.subplot(121)\n",
    "ax2 = plt.subplot(122)\n",
    "\n",
    "rgb,depth = getImage()\n",
    "\n",
    "#there might be a problem with the red and blue channels being swapped\n",
    "rgb = rgb[:,:,::-1]\n",
    "print rgb.shape\n",
    "ax1.imshow(rgb)\n",
    "ax2.imshow(depth,cmap='gist_gray')\n",
    "plt.show()\n"
   ]
  },
  {
   "cell_type": "code",
   "execution_count": 15,
   "metadata": {
    "collapsed": true
   },
   "outputs": [],
   "source": [
    "#set a higher configuration\n",
    "qhigh  = robot.getConfig()\n",
    "qhigh[1] = 2.3562\n",
    "qhigh[2] = -2*math.pi/3.0\n",
    "qhigh[3] = math.pi*2.0/3.0\n",
    "qhigh[4] = 1.4\n",
    "qhigh[5] = math.pi/2.0\n",
    "setConfig(qhigh)"
   ]
  },
  {
   "cell_type": "code",
   "execution_count": 16,
   "metadata": {
    "collapsed": true
   },
   "outputs": [],
   "source": [
    "setConfig(qhome)"
   ]
  },
  {
   "cell_type": "code",
   "execution_count": 17,
   "metadata": {},
   "outputs": [
    {
     "name": "stdout",
     "output_type": "stream",
     "text": [
      "Converted to point cloud with (32768, 6) points\n"
     ]
    },
    {
     "data": {
      "text/markdown": [
       "## Point cloud visualization \n",
       "Note that the X,Y,Z coordinates are flipped for better visualization"
      ],
      "text/plain": [
       "<IPython.core.display.Markdown object>"
      ]
     },
     "metadata": {},
     "output_type": "display_data"
    },
    {
     "data": {
      "application/vnd.jupyter.widget-view+json": {
       "model_id": "3ff4d0b9b34b4dd9b186cfdf3651066a",
       "version_major": 2,
       "version_minor": 0
      },
      "text/plain": [
       "KlamptWidget(scene={u'object': {u'matrix': [1, 0, 0, 0, 0, 0, -1, 0, 0, 1, 0, 0, 0, 0, 0, 1], u'uuid': u'2d57g…"
      ]
     },
     "metadata": {},
     "output_type": "display_data"
    }
   ],
   "source": [
    "#get point cloud\n",
    "pc = sensing.camera_to_points(camera)\n",
    "print \"Converted to point cloud with\",pc.shape,\"points\"\n",
    "#columns are in the format x,y,z,r,g,b\n",
    "\n",
    "import random\n",
    "\n",
    "#corrupt the synthesized point cloud\n",
    "dstd = 0.01  #approximately 1% error, which is fairly normal for depth sensors\n",
    "for i in range(pc.shape[0]):\n",
    "    x,y,z = pc[i][:3]\n",
    "    znew = random.gauss(z,dstd*z)\n",
    "    x = x*znew/z\n",
    "    y = y*znew/z\n",
    "    pc[i][:3] = [x,y,znew]\n",
    "\n",
    "world2 = WorldModel()\n",
    "kvis_pc = ipyklampt.KlamptWidget(world2)\n",
    "display(Markdown(\"## Point cloud visualization \\n(Note that the X,Y,Z coordinates of the raw point cloud are flipped for better visualization)\"))\n",
    "display(kvis_pc)"
   ]
  },
  {
   "cell_type": "code",
   "execution_count": 18,
   "metadata": {
    "collapsed": true
   },
   "outputs": [],
   "source": [
    "#update the above visualization with the point cloud\n",
    "\n",
    "subsample = 53\n",
    "kvis_pc.clear_extras()\n",
    "kvis_pc.begin_rpc()\n",
    "for i in range(pc.shape[0]):\n",
    "    if i % subsample != 0: continue\n",
    "    x,y,z,r,g,b = pc[i]\n",
    "    #show it pointing down, for better visualization\n",
    "    kvis_pc.add_sphere(\"p\"+str(i),-x,-y,-z,r=0.01)\n",
    "    kvis_pc.set_color(\"p\"+str(i),r,g,b)\n",
    "kvis_pc.end_rpc()"
   ]
  },
  {
   "cell_type": "code",
   "execution_count": 19,
   "metadata": {},
   "outputs": [
    {
     "data": {
      "text/markdown": [
       "## Plane visualization"
      ],
      "text/plain": [
       "<IPython.core.display.Markdown object>"
      ]
     },
     "metadata": {},
     "output_type": "display_data"
    },
    {
     "data": {
      "application/vnd.jupyter.widget-view+json": {
       "model_id": "e98c9572b4034a96997bd237329bdcc4",
       "version_major": 2,
       "version_minor": 0
      },
      "text/plain": [
       "KlamptWidget(scene={u'object': {u'matrix': [1, 0, 0, 0, 0, 0, -1, 0, 0, 1, 0, 0, 0, 0, 0, 1], u'uuid': u'66e3a…"
      ]
     },
     "metadata": {},
     "output_type": "display_data"
    }
   ],
   "source": [
    "#make a kvis visualization of the planes\n",
    "\n",
    "kvis_planes = ipyklampt.KlamptWidget(world2)\n",
    "display(Markdown(\"## Plane visualization\"))\n",
    "display(kvis_planes)"
   ]
  },
  {
   "cell_type": "code",
   "execution_count": 21,
   "metadata": {},
   "outputs": [
    {
     "name": "stdout",
     "output_type": "stream",
     "text": [
      "normal [-0.02756618 -0.37170969  0.92793966] offset -0.289318221086\n",
      "normal [-0.14321795 -0.2516967   0.95715066] offset -0.312806613201\n",
      "normal [-0.12681736  0.36252105 -0.92330702] offset 0.302623717373\n",
      "normal [-0.81453064  0.42027129  0.39988983] offset -0.173940738024\n",
      "normal [-0.0838561   0.14163633 -0.98636064] offset 0.325288242957\n",
      "Plane 0 has 8150 points\n",
      "Plane 1 has 11385 points\n",
      "Plane 2 has 7159 points\n",
      "Plane 3 has 3586 points\n",
      "Plane 4 has 11883 points\n"
     ]
    }
   ],
   "source": [
    "import random\n",
    "\n",
    "MAX_PLANES = 5\n",
    "PLANE_FIT_TOLERANCE = 0.01\n",
    "\n",
    "def estimatePlanes(rgb,depth,pc):\n",
    "    \"\"\"TODO: find as many planes as possible in the point cloud pc.\n",
    "    \n",
    "    Return value is a pair (planes,pointsets) where:\n",
    "    - planes is a list of planes in the form (a,b,c,d), defining ax+by+cy+d = 0\n",
    "    - pointsets is a list of point subsets.  Each subset is a list of point indices\n",
    "      indexing into the pc.\n",
    "      \n",
    "    At most MAX_PLANES planes should be returned, and each point in a pointset should \n",
    "    be within PLANE_FIT_TOLERANCE distance to the plane\n",
    "    \"\"\"\n",
    "    planes = []\n",
    "    pointsets = []\n",
    "    #this is a really bad method\n",
    "    for p in range(MAX_PLANES):\n",
    "        points = []\n",
    "        for i in range(3):\n",
    "            k = random.randint(0,pc.shape[0]-1)\n",
    "            points.append(pc[k][:3])\n",
    "        #fit a plane to these three points\n",
    "        #note: these are Numpy objects\n",
    "        normal = np.cross(points[1]-points[0],points[2]-points[0])\n",
    "        nlen = np.linalg.norm(normal)\n",
    "        if nlen < 1e-4:\n",
    "            #degenerate\n",
    "            continue\n",
    "        normal = normal / nlen\n",
    "        offset = -np.dot(normal,points[0])\n",
    "        planes.append((normal[0],normal[1],normal[2],offset))\n",
    "        print \"normal\",normal,\"offset\",offset\n",
    "        \n",
    "        #we're picking any point within 1cm of the plane\n",
    "        pointset = []\n",
    "        for i in range(pc.shape[0]):\n",
    "            #evaluate plane equation -- note the normal is a unit vector\n",
    "            d = np.dot(pc[i,:3],normal) + offset\n",
    "            if abs(d) < PLANE_FIT_TOLERANCE:\n",
    "                pointset.append(i)\n",
    "        pointsets.append(pointset)\n",
    "    return planes,pointsets\n",
    "\n",
    "planes,pointsets = estimatePlanes(rgb,depth,pc)\n",
    "\n",
    "kvis_planes.clear_extras()\n",
    "colors = [(1,0,0),(0,1,0),(0,0,1),(1,1,0),(1,0,1),(1,0,1)]\n",
    "for i in range(len(planes)):\n",
    "    centroid = -np.average(pc[pointsets[i],0:3],axis=0)\n",
    "    assert len(centroid) == 3\n",
    "    normal = -np.array(planes[i][0:3])\n",
    "    offset = planes[i][3]\n",
    "    y = np.cross(normal,[1,0,0])\n",
    "    x = -np.cross(y,normal)\n",
    "    y = y / np.linalg.norm(y)\n",
    "    x = x / np.linalg.norm(y)\n",
    "    size = np.std(pc[pointsets[i],0:3])\n",
    "    print \"Plane\",i,\"has\",len(pointsets[i]),\"points\"\n",
    "    kvis_planes.begin_rpc()\n",
    "    centroid = centroid - normal * (np.dot(centroid,normal) + offset)\n",
    "    a = centroid+(-x-y)*size\n",
    "    b = centroid+(x-y)*size\n",
    "    c = centroid+(x+y)*size\n",
    "    d = centroid+(-x+y)*size\n",
    "    kvis_planes.add_quad(\"plane\"+str(i),list(a),list(b),list(c),list(d))\n",
    "    kvis_planes.set_color(\"plane\"+str(i),*colors[i])\n",
    "    for j in pointsets[i]:\n",
    "        if j % subsample != 0:\n",
    "            continue\n",
    "        x,y,z,r,g,b = pc[j]\n",
    "        pname = \"p\"+str(i)+\"_\"+str(j)\n",
    "        kvis_planes.add_sphere(pname,-x,-y,-z,0.01)\n",
    "        kvis_planes.set_color(pname,*colors[i])\n",
    "    kvis_planes.end_rpc()"
   ]
  },
  {
   "cell_type": "markdown",
   "metadata": {
    "collapsed": true
   },
   "source": [
    "We have provided a fairly garbage plane detector that assumes there are 5 planes in the image, and for each plane picks 3 random points and fits a plane to those points.\n",
    "\n",
    "## Assignment\n",
    "\n",
    "Your job is to develop a plane extraction algorithm in estimatePlanes that does a reasonable job of estimating the major planes in the sensed scene.  Each returned plane should have a minimum number of points that \"belong\" to it (i.e., fit well).  The maximum number of planes and the criterion for \"fitting well\" should be tunable parameters, as defined by the constants MAX_PLANES and PLANE_FIT_TOLERANCE.\n",
    "\n",
    "Your strategy can make use of the point cloud (pc), and it can also look into the images rgb and depth.  You should become acquainted with the array representation used in the Numpy package, since it is used for each of these objects.\n",
    "\n",
    "In your report, precisely and in technical English language (not code, although pseudocode may be acceptable), describe your strategy for generating these planes.  This should include, but is not limited to:\n",
    "\n",
    "1. Your criterion for defining what is a good plane.\n",
    "\n",
    "2. The strategy used for identifying good planes.\n",
    "\n",
    "3. Describe as precisely as possible all of the free parameters of your algorithm.\n",
    "\n",
    "3. A theoretic analysis of the algorithm's running time. Describe how its performance should vary with respect to the given parameters, as well as any other parameters that you use."
   ]
  },
  {
   "cell_type": "markdown",
   "metadata": {},
   "source": [
    "## Unit testing\n",
    "\n",
    "Perform unit testing of your plane extractor, and describe the performance metrics and test procedure that you are using.  Interpret the observations you have made, including but not limited to:\n",
    "\n",
    "* Whether performance is sensitive to certain parameters.\n",
    "* Whether performance limitations or bottlenecks can be identified.\n",
    "* Whether unit tests agree with theoretical behavior."
   ]
  },
  {
   "cell_type": "code",
   "execution_count": null,
   "metadata": {
    "collapsed": true
   },
   "outputs": [],
   "source": []
  }
 ],
 "metadata": {
  "kernelspec": {
   "display_name": "Python 2",
   "language": "python",
   "name": "python2"
  },
  "language_info": {
   "codemirror_mode": {
    "name": "ipython",
    "version": 2
   },
   "file_extension": ".py",
   "mimetype": "text/x-python",
   "name": "python",
   "nbconvert_exporter": "python",
   "pygments_lexer": "ipython2",
   "version": "2.7.12"
  }
 },
 "nbformat": 4,
 "nbformat_minor": 2
}
